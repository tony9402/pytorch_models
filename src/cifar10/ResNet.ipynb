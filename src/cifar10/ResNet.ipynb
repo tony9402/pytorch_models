{
 "cells": [
  {
   "cell_type": "code",
   "execution_count": 1,
   "id": "7fbaa0f9",
   "metadata": {},
   "outputs": [],
   "source": [
    "import sys\n",
    "sys.path.append('./../models/')\n",
    "from resnet import ResNet18, ResNet34, ResNet50"
   ]
  },
  {
   "cell_type": "code",
   "execution_count": 2,
   "id": "afcd4d29",
   "metadata": {},
   "outputs": [
    {
     "name": "stdout",
     "output_type": "stream",
     "text": [
      "Files already downloaded and verified\n",
      "Model : ResNet\n",
      "Epoch : 20\n",
      "Learning Rate : 0.001\n",
      "Batch Size : 100\n",
      "device : cuda\n"
     ]
    }
   ],
   "source": [
    "from train import TrainCifar10\n",
    "\n",
    "testmodule = TrainCifar10({\n",
    "    'model' : ResNet18(),\n",
    "    'epoch' : 20,\n",
    "    'learning_rate': 0.001,\n",
    "    'batch_size': 100,\n",
    "    'device': 'cuda'\n",
    "})"
   ]
  },
  {
   "cell_type": "code",
   "execution_count": 3,
   "id": "e957b96c",
   "metadata": {},
   "outputs": [
    {
     "name": "stderr",
     "output_type": "stream",
     "text": [
      "100%|██████████| 500/500 [00:16<00:00, 31.07it/s, Epoch=1/20, Step=500/500, Loss=1.0727]\n",
      "100%|██████████| 100/100 [00:01<00:00, 99.27it/s, Accuracy=48.88%]\n"
     ]
    },
    {
     "name": "stdout",
     "output_type": "stream",
     "text": [
      "Accuracy : 48.88\n"
     ]
    },
    {
     "name": "stderr",
     "output_type": "stream",
     "text": [
      "100%|██████████| 500/500 [00:13<00:00, 36.23it/s, Epoch=2/20, Step=500/500, Loss=1.6198]\n",
      "100%|██████████| 100/100 [00:01<00:00, 99.38it/s, Accuracy=43.31%]\n"
     ]
    },
    {
     "name": "stdout",
     "output_type": "stream",
     "text": [
      "Accuracy : 43.31\n"
     ]
    },
    {
     "name": "stderr",
     "output_type": "stream",
     "text": [
      "100%|██████████| 500/500 [00:13<00:00, 36.91it/s, Epoch=3/20, Step=500/500, Loss=1.2849]\n",
      "100%|██████████| 100/100 [00:01<00:00, 99.10it/s, Accuracy=50.20%]\n"
     ]
    },
    {
     "name": "stdout",
     "output_type": "stream",
     "text": [
      "Accuracy : 50.2\n"
     ]
    },
    {
     "name": "stderr",
     "output_type": "stream",
     "text": [
      "100%|██████████| 500/500 [00:13<00:00, 37.11it/s, Epoch=4/20, Step=500/500, Loss=1.2969]\n",
      "100%|██████████| 100/100 [00:01<00:00, 98.74it/s, Accuracy=57.06%]\n"
     ]
    },
    {
     "name": "stdout",
     "output_type": "stream",
     "text": [
      "Accuracy : 57.06\n"
     ]
    },
    {
     "name": "stderr",
     "output_type": "stream",
     "text": [
      "100%|██████████| 500/500 [00:13<00:00, 36.55it/s, Epoch=5/20, Step=500/500, Loss=1.2489]\n",
      "100%|██████████| 100/100 [00:01<00:00, 98.82it/s, Accuracy=59.96%]\n"
     ]
    },
    {
     "name": "stdout",
     "output_type": "stream",
     "text": [
      "Accuracy : 59.96\n"
     ]
    },
    {
     "name": "stderr",
     "output_type": "stream",
     "text": [
      "100%|██████████| 500/500 [00:13<00:00, 37.05it/s, Epoch=6/20, Step=500/500, Loss=1.2768]\n",
      "100%|██████████| 100/100 [00:01<00:00, 97.94it/s, Accuracy=64.29%]\n"
     ]
    },
    {
     "name": "stdout",
     "output_type": "stream",
     "text": [
      "Accuracy : 64.29\n"
     ]
    },
    {
     "name": "stderr",
     "output_type": "stream",
     "text": [
      "100%|██████████| 500/500 [00:13<00:00, 37.43it/s, Epoch=7/20, Step=500/500, Loss=1.0739]\n",
      "100%|██████████| 100/100 [00:01<00:00, 98.41it/s, Accuracy=65.36%]\n"
     ]
    },
    {
     "name": "stdout",
     "output_type": "stream",
     "text": [
      "Accuracy : 65.36\n"
     ]
    },
    {
     "name": "stderr",
     "output_type": "stream",
     "text": [
      "100%|██████████| 500/500 [00:13<00:00, 37.33it/s, Epoch=8/20, Step=500/500, Loss=1.1597]\n",
      "100%|██████████| 100/100 [00:01<00:00, 99.50it/s, Accuracy=65.64%]\n"
     ]
    },
    {
     "name": "stdout",
     "output_type": "stream",
     "text": [
      "Accuracy : 65.64\n"
     ]
    },
    {
     "name": "stderr",
     "output_type": "stream",
     "text": [
      "100%|██████████| 500/500 [00:12<00:00, 38.96it/s, Epoch=9/20, Step=500/500, Loss=1.0710]\n",
      "100%|██████████| 100/100 [00:01<00:00, 97.89it/s, Accuracy=66.44%]\n"
     ]
    },
    {
     "name": "stdout",
     "output_type": "stream",
     "text": [
      "Accuracy : 66.44\n"
     ]
    },
    {
     "name": "stderr",
     "output_type": "stream",
     "text": [
      "100%|██████████| 500/500 [00:13<00:00, 36.35it/s, Epoch=10/20, Step=500/500, Loss=1.1144]\n",
      "100%|██████████| 100/100 [00:01<00:00, 98.89it/s, Accuracy=68.72%]\n"
     ]
    },
    {
     "name": "stdout",
     "output_type": "stream",
     "text": [
      "Accuracy : 68.72\n"
     ]
    },
    {
     "name": "stderr",
     "output_type": "stream",
     "text": [
      "100%|██████████| 500/500 [00:13<00:00, 36.74it/s, Epoch=11/20, Step=500/500, Loss=0.9348]\n",
      "100%|██████████| 100/100 [00:01<00:00, 99.59it/s, Accuracy=70.55%]\n"
     ]
    },
    {
     "name": "stdout",
     "output_type": "stream",
     "text": [
      "Accuracy : 70.55\n"
     ]
    },
    {
     "name": "stderr",
     "output_type": "stream",
     "text": [
      "100%|██████████| 500/500 [00:13<00:00, 36.37it/s, Epoch=12/20, Step=500/500, Loss=0.8827]\n",
      "100%|██████████| 100/100 [00:01<00:00, 98.79it/s, Accuracy=69.65%]\n"
     ]
    },
    {
     "name": "stdout",
     "output_type": "stream",
     "text": [
      "Accuracy : 69.65\n"
     ]
    },
    {
     "name": "stderr",
     "output_type": "stream",
     "text": [
      "100%|██████████| 500/500 [00:13<00:00, 37.76it/s, Epoch=13/20, Step=500/500, Loss=0.7351]\n",
      "100%|██████████| 100/100 [00:01<00:00, 99.63it/s, Accuracy=70.58%]\n"
     ]
    },
    {
     "name": "stdout",
     "output_type": "stream",
     "text": [
      "Accuracy : 70.58\n"
     ]
    },
    {
     "name": "stderr",
     "output_type": "stream",
     "text": [
      "100%|██████████| 500/500 [00:13<00:00, 35.89it/s, Epoch=14/20, Step=500/500, Loss=0.8251]\n",
      "100%|██████████| 100/100 [00:00<00:00, 100.05it/s, Accuracy=70.37%]\n"
     ]
    },
    {
     "name": "stdout",
     "output_type": "stream",
     "text": [
      "Accuracy : 70.37\n"
     ]
    },
    {
     "name": "stderr",
     "output_type": "stream",
     "text": [
      "100%|██████████| 500/500 [00:13<00:00, 36.25it/s, Epoch=15/20, Step=500/500, Loss=0.6361]\n",
      "100%|██████████| 100/100 [00:01<00:00, 98.50it/s, Accuracy=70.32%]\n"
     ]
    },
    {
     "name": "stdout",
     "output_type": "stream",
     "text": [
      "Accuracy : 70.32\n"
     ]
    },
    {
     "name": "stderr",
     "output_type": "stream",
     "text": [
      "100%|██████████| 500/500 [00:13<00:00, 36.18it/s, Epoch=16/20, Step=500/500, Loss=0.8071]\n",
      "100%|██████████| 100/100 [00:01<00:00, 99.02it/s, Accuracy=72.58%]\n"
     ]
    },
    {
     "name": "stdout",
     "output_type": "stream",
     "text": [
      "Accuracy : 72.58\n"
     ]
    },
    {
     "name": "stderr",
     "output_type": "stream",
     "text": [
      "100%|██████████| 500/500 [00:12<00:00, 40.11it/s, Epoch=17/20, Step=500/500, Loss=0.8553]\n",
      "100%|██████████| 100/100 [00:00<00:00, 101.75it/s, Accuracy=72.40%]\n"
     ]
    },
    {
     "name": "stdout",
     "output_type": "stream",
     "text": [
      "Accuracy : 72.4\n"
     ]
    },
    {
     "name": "stderr",
     "output_type": "stream",
     "text": [
      "100%|██████████| 500/500 [00:13<00:00, 36.16it/s, Epoch=18/20, Step=500/500, Loss=0.5953]\n",
      "100%|██████████| 100/100 [00:01<00:00, 98.43it/s, Accuracy=73.03%]\n"
     ]
    },
    {
     "name": "stdout",
     "output_type": "stream",
     "text": [
      "Accuracy : 73.03\n"
     ]
    },
    {
     "name": "stderr",
     "output_type": "stream",
     "text": [
      "100%|██████████| 500/500 [00:13<00:00, 36.51it/s, Epoch=19/20, Step=500/500, Loss=0.7376]\n",
      "100%|██████████| 100/100 [00:00<00:00, 100.15it/s, Accuracy=74.29%]\n"
     ]
    },
    {
     "name": "stdout",
     "output_type": "stream",
     "text": [
      "Accuracy : 74.29\n"
     ]
    },
    {
     "name": "stderr",
     "output_type": "stream",
     "text": [
      "100%|██████████| 500/500 [00:13<00:00, 36.20it/s, Epoch=20/20, Step=500/500, Loss=0.8674]\n",
      "100%|██████████| 100/100 [00:01<00:00, 98.65it/s, Accuracy=74.34%]"
     ]
    },
    {
     "name": "stdout",
     "output_type": "stream",
     "text": [
      "Accuracy : 74.34\n"
     ]
    },
    {
     "name": "stderr",
     "output_type": "stream",
     "text": [
      "\n"
     ]
    }
   ],
   "source": [
    "testmodule.train()"
   ]
  },
  {
   "cell_type": "code",
   "execution_count": null,
   "id": "c7377bdb",
   "metadata": {},
   "outputs": [],
   "source": []
  }
 ],
 "metadata": {
  "kernelspec": {
   "display_name": "Python 3 (ipykernel)",
   "language": "python",
   "name": "python3"
  },
  "language_info": {
   "codemirror_mode": {
    "name": "ipython",
    "version": 3
   },
   "file_extension": ".py",
   "mimetype": "text/x-python",
   "name": "python",
   "nbconvert_exporter": "python",
   "pygments_lexer": "ipython3",
   "version": "3.8.12"
  }
 },
 "nbformat": 4,
 "nbformat_minor": 5
}